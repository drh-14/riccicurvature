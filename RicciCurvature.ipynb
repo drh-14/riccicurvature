{
  "cells": [
    {
      "cell_type": "markdown",
      "metadata": {
        "id": "view-in-github",
        "colab_type": "text"
      },
      "source": [
        "<a href=\"https://colab.research.google.com/github/drh-14/riccicurvature/blob/main/RicciCurvature.ipynb\" target=\"_parent\"><img src=\"https://colab.research.google.com/assets/colab-badge.svg\" alt=\"Open In Colab\"/></a>"
      ]
    },
    {
      "cell_type": "markdown",
      "source": [
        "# Imports and initializations"
      ],
      "metadata": {
        "id": "YsGNeXTlZa_e"
      }
    },
    {
      "cell_type": "code",
      "execution_count": null,
      "metadata": {
        "colab": {
          "base_uri": "https://localhost:8080/",
          "height": 696
        },
        "id": "Yy8hFtW2gXkF",
        "outputId": "b9a3964a-8c8c-41b5-f1c2-b1cb3689cfa6"
      },
      "outputs": [
        {
          "output_type": "stream",
          "name": "stdout",
          "text": [
            "Collecting GraphRicciCurvature\n",
            "  Downloading GraphRicciCurvature-0.5.3.2-py3-none-any.whl.metadata (9.0 kB)\n",
            "Requirement already satisfied: cython in /usr/local/lib/python3.10/dist-packages (from GraphRicciCurvature) (3.0.11)\n",
            "Requirement already satisfied: numpy in /usr/local/lib/python3.10/dist-packages (from GraphRicciCurvature) (1.26.4)\n",
            "Requirement already satisfied: scipy<=1.13.1 in /usr/local/lib/python3.10/dist-packages (from GraphRicciCurvature) (1.13.1)\n",
            "Requirement already satisfied: networkx>=2.0 in /usr/local/lib/python3.10/dist-packages (from GraphRicciCurvature) (3.3)\n",
            "Collecting pot>=0.8.0 (from GraphRicciCurvature)\n",
            "  Downloading POT-0.9.4-cp310-cp310-manylinux_2_17_x86_64.manylinux2014_x86_64.whl.metadata (32 kB)\n",
            "Requirement already satisfied: packaging in /usr/local/lib/python3.10/dist-packages (from GraphRicciCurvature) (24.1)\n",
            "Collecting networkit>=6.1 (from GraphRicciCurvature)\n",
            "  Downloading networkit-11.0-cp310-cp310-manylinux_2_17_x86_64.manylinux2014_x86_64.whl.metadata (14 kB)\n",
            "Requirement already satisfied: python-louvain in /usr/local/lib/python3.10/dist-packages (from GraphRicciCurvature) (0.16)\n",
            "Downloading GraphRicciCurvature-0.5.3.2-py3-none-any.whl (23 kB)\n",
            "Downloading networkit-11.0-cp310-cp310-manylinux_2_17_x86_64.manylinux2014_x86_64.whl (13.7 MB)\n",
            "\u001b[2K   \u001b[90m━━━━━━━━━━━━━━━━━━━━━━━━━━━━━━━━━━━━━━━━\u001b[0m \u001b[32m13.7/13.7 MB\u001b[0m \u001b[31m80.3 MB/s\u001b[0m eta \u001b[36m0:00:00\u001b[0m\n",
            "\u001b[?25hDownloading POT-0.9.4-cp310-cp310-manylinux_2_17_x86_64.manylinux2014_x86_64.whl (835 kB)\n",
            "\u001b[2K   \u001b[90m━━━━━━━━━━━━━━━━━━━━━━━━━━━━━━━━━━━━━━━━\u001b[0m \u001b[32m835.4/835.4 kB\u001b[0m \u001b[31m39.5 MB/s\u001b[0m eta \u001b[36m0:00:00\u001b[0m\n",
            "\u001b[?25hInstalling collected packages: pot, networkit, GraphRicciCurvature\n",
            "Successfully installed GraphRicciCurvature-0.5.3.2 networkit-11.0 pot-0.9.4\n",
            "Collecting igraph\n",
            "  Downloading igraph-0.11.6-cp39-abi3-manylinux_2_17_x86_64.manylinux2014_x86_64.whl.metadata (3.9 kB)\n",
            "Collecting texttable>=1.6.2 (from igraph)\n",
            "  Downloading texttable-1.7.0-py2.py3-none-any.whl.metadata (9.8 kB)\n",
            "Downloading igraph-0.11.6-cp39-abi3-manylinux_2_17_x86_64.manylinux2014_x86_64.whl (3.1 MB)\n",
            "\u001b[2K   \u001b[90m━━━━━━━━━━━━━━━━━━━━━━━━━━━━━━━━━━━━━━━━\u001b[0m \u001b[32m3.1/3.1 MB\u001b[0m \u001b[31m28.7 MB/s\u001b[0m eta \u001b[36m0:00:00\u001b[0m\n",
            "\u001b[?25hDownloading texttable-1.7.0-py2.py3-none-any.whl (10 kB)\n",
            "Installing collected packages: texttable, igraph\n",
            "Successfully installed igraph-0.11.6 texttable-1.7.0\n",
            "Requirement already satisfied: scikit-learn in /usr/local/lib/python3.10/dist-packages (1.3.2)\n",
            "Requirement already satisfied: numpy<2.0,>=1.17.3 in /usr/local/lib/python3.10/dist-packages (from scikit-learn) (1.26.4)\n",
            "Requirement already satisfied: scipy>=1.5.0 in /usr/local/lib/python3.10/dist-packages (from scikit-learn) (1.13.1)\n",
            "Requirement already satisfied: joblib>=1.1.1 in /usr/local/lib/python3.10/dist-packages (from scikit-learn) (1.4.2)\n",
            "Requirement already satisfied: threadpoolctl>=2.0.0 in /usr/local/lib/python3.10/dist-packages (from scikit-learn) (3.5.0)\n",
            "Requirement already satisfied: python-louvain in /usr/local/lib/python3.10/dist-packages (0.16)\n",
            "Requirement already satisfied: networkx in /usr/local/lib/python3.10/dist-packages (from python-louvain) (3.3)\n",
            "Requirement already satisfied: numpy in /usr/local/lib/python3.10/dist-packages (from python-louvain) (1.26.4)\n",
            "Requirement already satisfied: numpy in /usr/local/lib/python3.10/dist-packages (1.26.4)\n",
            "Mounted at /content/drive\n"
          ]
        },
        {
          "output_type": "display_data",
          "data": {
            "text/html": [
              "\n",
              "\t\t\t<script type=\"text/javascript\">\n",
              "\t\t\t<!--\n",
              "\t\t\t\t\n",
              "\t\t\t{\n",
              "\t\t\t\tvar element = document.getElementById('NetworKit_script');\n",
              "\t\t\t\tif (element) {\n",
              "\t\t\t\t\telement.parentNode.removeChild(element);\n",
              "\t\t\t\t}\n",
              "\t\t\t\telement = document.createElement('script');\n",
              "\t\t\t\telement.type = 'text/javascript';\n",
              "\t\t\t\telement.innerHTML = 'function NetworKit_pageEmbed(id) { var i, j; var elements; elements = document.getElementById(id).getElementsByClassName(\"Plot\"); for (i=0; i<elements.length; i++) { elements[i].id = id + \"_Plot_\" + i; var data = elements[i].getAttribute(\"data-image\").split(\"|\"); elements[i].removeAttribute(\"data-image\"); var content = \"<div class=\\\\\"Image\\\\\" id=\\\\\"\" + elements[i].id + \"_Image\\\\\" />\"; elements[i].innerHTML = content; elements[i].setAttribute(\"data-image-index\", 0); elements[i].setAttribute(\"data-image-length\", data.length); for (j=0; j<data.length; j++) { elements[i].setAttribute(\"data-image-\" + j, data[j]); } NetworKit_plotUpdate(elements[i]); elements[i].onclick = function (e) { NetworKit_overlayShow((e.target) ? e.target : e.srcElement); } } elements = document.getElementById(id).getElementsByClassName(\"HeatCell\"); for (i=0; i<elements.length; i++) { var data = parseFloat(elements[i].getAttribute(\"data-heat\")); var color = \"#00FF00\"; if (data <= 1 && data > 0) { color = \"hsla(0, 100%, 75%, \" + (data) + \")\"; } else if (data <= 0 && data >= -1) { color = \"hsla(240, 100%, 75%, \" + (-data) + \")\"; } elements[i].style.backgroundColor = color; } elements = document.getElementById(id).getElementsByClassName(\"Details\"); for (i=0; i<elements.length; i++) { elements[i].setAttribute(\"data-title\", \"-\"); NetworKit_toggleDetails(elements[i]); elements[i].onclick = function (e) { NetworKit_toggleDetails((e.target) ? e.target : e.srcElement); } } elements = document.getElementById(id).getElementsByClassName(\"MathValue\"); for (i=elements.length-1; i>=0; i--) { value = elements[i].innerHTML.trim(); if (value === \"nan\") { elements[i].parentNode.innerHTML = \"\" } } elements = document.getElementById(id).getElementsByClassName(\"SubCategory\"); for (i=elements.length-1; i>=0; i--) { value = elements[i].innerHTML.trim(); if (value === \"\") { elements[i].parentNode.removeChild(elements[i]) } } elements = document.getElementById(id).getElementsByClassName(\"Category\"); for (i=elements.length-1; i>=0; i--) { value = elements[i].innerHTML.trim(); if (value === \"\") { elements[i].parentNode.removeChild(elements[i]) } } var isFirefox = false; try { isFirefox = typeof InstallTrigger !== \"undefined\"; } catch (e) {} if (!isFirefox) { alert(\"Currently the function\\'s output is only fully supported by Firefox.\"); } } function NetworKit_plotUpdate(source) { var index = source.getAttribute(\"data-image-index\"); var data = source.getAttribute(\"data-image-\" + index); var image = document.getElementById(source.id + \"_Image\"); image.style.backgroundImage = \"url(\" + data + \")\"; } function NetworKit_showElement(id, show) { var element = document.getElementById(id); element.style.display = (show) ? \"block\" : \"none\"; } function NetworKit_overlayShow(source) { NetworKit_overlayUpdate(source); NetworKit_showElement(\"NetworKit_Overlay\", true); } function NetworKit_overlayUpdate(source) { document.getElementById(\"NetworKit_Overlay_Title\").innerHTML = source.title; var index = source.getAttribute(\"data-image-index\"); var data = source.getAttribute(\"data-image-\" + index); var image = document.getElementById(\"NetworKit_Overlay_Image\"); image.setAttribute(\"data-id\", source.id); image.style.backgroundImage = \"url(\" + data + \")\"; var link = document.getElementById(\"NetworKit_Overlay_Toolbar_Bottom_Save\"); link.href = data; link.download = source.title + \".svg\"; } function NetworKit_overlayImageShift(delta) { var image = document.getElementById(\"NetworKit_Overlay_Image\"); var source = document.getElementById(image.getAttribute(\"data-id\")); var index = parseInt(source.getAttribute(\"data-image-index\")); var length = parseInt(source.getAttribute(\"data-image-length\")); var index = (index+delta) % length; if (index < 0) { index = length + index; } source.setAttribute(\"data-image-index\", index); NetworKit_overlayUpdate(source); } function NetworKit_toggleDetails(source) { var childs = source.children; var show = false; if (source.getAttribute(\"data-title\") == \"-\") { source.setAttribute(\"data-title\", \"+\"); show = false; } else { source.setAttribute(\"data-title\", \"-\"); show = true; } for (i=0; i<childs.length; i++) { if (show) { childs[i].style.display = \"block\"; } else { childs[i].style.display = \"none\"; } } }';\n",
              "\t\t\t\telement.setAttribute('id', 'NetworKit_script');\n",
              "\t\t\t\tdocument.head.appendChild(element);\n",
              "\t\t\t}\n",
              "\t\t\n",
              "\t\t\t\t\n",
              "\t\t\t{\n",
              "\t\t\t\tvar element = document.getElementById('NetworKit_style');\n",
              "\t\t\t\tif (element) {\n",
              "\t\t\t\t\telement.parentNode.removeChild(element);\n",
              "\t\t\t\t}\n",
              "\t\t\t\telement = document.createElement('style');\n",
              "\t\t\t\telement.type = 'text/css';\n",
              "\t\t\t\telement.innerHTML = '.NetworKit_Page { font-family: Arial, Helvetica, sans-serif; font-size: 14px; } .NetworKit_Page .Value:before { font-family: Arial, Helvetica, sans-serif; font-size: 1.05em; content: attr(data-title) \":\"; margin-left: -2.5em; padding-right: 0.5em; } .NetworKit_Page .Details .Value:before { display: block; } .NetworKit_Page .Value { font-family: monospace; white-space: pre; padding-left: 2.5em; white-space: -moz-pre-wrap !important; white-space: -pre-wrap; white-space: -o-pre-wrap; white-space: pre-wrap; word-wrap: break-word; tab-size: 4; -moz-tab-size: 4; } .NetworKit_Page .Category { clear: both; padding-left: 1em; margin-bottom: 1.5em; } .NetworKit_Page .Category:before { content: attr(data-title); font-size: 1.75em; display: block; margin-left: -0.8em; margin-bottom: 0.5em; } .NetworKit_Page .SubCategory { margin-bottom: 1.5em; padding-left: 1em; } .NetworKit_Page .SubCategory:before { font-size: 1.6em; display: block; margin-left: -0.8em; margin-bottom: 0.5em; } .NetworKit_Page .SubCategory[data-title]:before { content: attr(data-title); } .NetworKit_Page .Block { display: block; } .NetworKit_Page .Block:after { content: \".\"; visibility: hidden; display: block; height: 0; clear: both; } .NetworKit_Page .Block .Thumbnail_Overview, .NetworKit_Page .Block .Thumbnail_ScatterPlot { width: 260px; float: left; } .NetworKit_Page .Block .Thumbnail_Overview img, .NetworKit_Page .Block .Thumbnail_ScatterPlot img { width: 260px; } .NetworKit_Page .Block .Thumbnail_Overview:before, .NetworKit_Page .Block .Thumbnail_ScatterPlot:before { display: block; text-align: center; font-weight: bold; } .NetworKit_Page .Block .Thumbnail_Overview:before { content: attr(data-title); } .NetworKit_Page .HeatCell { font-family: \"Courier New\", Courier, monospace; cursor: pointer; } .NetworKit_Page .HeatCell, .NetworKit_Page .HeatCellName { display: inline; padding: 0.1em; margin-right: 2px; background-color: #FFFFFF } .NetworKit_Page .HeatCellName { margin-left: 0.25em; } .NetworKit_Page .HeatCell:before { content: attr(data-heat); display: inline-block; color: #000000; width: 4em; text-align: center; } .NetworKit_Page .Measure { clear: both; } .NetworKit_Page .Measure .Details { cursor: pointer; } .NetworKit_Page .Measure .Details:before { content: \"[\" attr(data-title) \"]\"; display: block; } .NetworKit_Page .Measure .Details .Value { border-left: 1px dotted black; margin-left: 0.4em; padding-left: 3.5em; pointer-events: none; } .NetworKit_Page .Measure .Details .Spacer:before { content: \".\"; opacity: 0.0; pointer-events: none; } .NetworKit_Page .Measure .Plot { width: 440px; height: 440px; cursor: pointer; float: left; margin-left: -0.9em; margin-right: 20px; } .NetworKit_Page .Measure .Plot .Image { background-repeat: no-repeat; background-position: center center; background-size: contain; height: 100%; pointer-events: none; } .NetworKit_Page .Measure .Stat { width: 500px; float: left; } .NetworKit_Page .Measure .Stat .Group { padding-left: 1.25em; margin-bottom: 0.75em; } .NetworKit_Page .Measure .Stat .Group .Title { font-size: 1.1em; display: block; margin-bottom: 0.3em; margin-left: -0.75em; border-right-style: dotted; border-right-width: 1px; border-bottom-style: dotted; border-bottom-width: 1px; background-color: #D0D0D0; padding-left: 0.2em; } .NetworKit_Page .Measure .Stat .Group .List { -webkit-column-count: 3; -moz-column-count: 3; column-count: 3; } .NetworKit_Page .Measure .Stat .Group .List .Entry { position: relative; line-height: 1.75em; } .NetworKit_Page .Measure .Stat .Group .List .Entry[data-tooltip]:before { position: absolute; left: 0; top: -40px; background-color: #808080; color: #ffffff; height: 30px; line-height: 30px; border-radius: 5px; padding: 0 15px; content: attr(data-tooltip); white-space: nowrap; display: none; } .NetworKit_Page .Measure .Stat .Group .List .Entry[data-tooltip]:after { position: absolute; left: 15px; top: -10px; border-top: 7px solid #808080; border-left: 7px solid transparent; border-right: 7px solid transparent; content: \"\"; display: none; } .NetworKit_Page .Measure .Stat .Group .List .Entry[data-tooltip]:hover:after, .NetworKit_Page .Measure .Stat .Group .List .Entry[data-tooltip]:hover:before { display: block; } .NetworKit_Page .Measure .Stat .Group .List .Entry .MathValue { font-family: \"Courier New\", Courier, monospace; } .NetworKit_Page .Measure:after { content: \".\"; visibility: hidden; display: block; height: 0; clear: both; } .NetworKit_Page .PartitionPie { clear: both; } .NetworKit_Page .PartitionPie img { width: 600px; } #NetworKit_Overlay { left: 0px; top: 0px; display: none; position: absolute; width: 100%; height: 100%; background-color: rgba(0,0,0,0.6); z-index: 1000; } #NetworKit_Overlay_Title { position: absolute; color: white; transform: rotate(-90deg); width: 32em; height: 32em; padding-right: 0.5em; padding-top: 0.5em; text-align: right; font-size: 40px; } #NetworKit_Overlay .button { background: white; cursor: pointer; } #NetworKit_Overlay .button:before { size: 13px; display: inline-block; text-align: center; margin-top: 0.5em; margin-bottom: 0.5em; width: 1.5em; height: 1.5em; } #NetworKit_Overlay .icon-close:before { content: \"X\"; } #NetworKit_Overlay .icon-previous:before { content: \"P\"; } #NetworKit_Overlay .icon-next:before { content: \"N\"; } #NetworKit_Overlay .icon-save:before { content: \"S\"; } #NetworKit_Overlay_Toolbar_Top, #NetworKit_Overlay_Toolbar_Bottom { position: absolute; width: 40px; right: 13px; text-align: right; z-index: 1100; } #NetworKit_Overlay_Toolbar_Top { top: 0.5em; } #NetworKit_Overlay_Toolbar_Bottom { Bottom: 0.5em; } #NetworKit_Overlay_ImageContainer { position: absolute; top: 5%; left: 5%; height: 90%; width: 90%; background-repeat: no-repeat; background-position: center center; background-size: contain; } #NetworKit_Overlay_Image { height: 100%; width: 100%; background-repeat: no-repeat; background-position: center center; background-size: contain; }';\n",
              "\t\t\t\telement.setAttribute('id', 'NetworKit_style');\n",
              "\t\t\t\tdocument.head.appendChild(element);\n",
              "\t\t\t}\n",
              "\t\t\n",
              "\t\t\t\t\n",
              "\t\t\t{\n",
              "\t\t\t\tvar element = document.getElementById('NetworKit_Overlay');\n",
              "\t\t\t\tif (element) {\n",
              "\t\t\t\t\telement.parentNode.removeChild(element);\n",
              "\t\t\t\t}\n",
              "\t\t\t\telement = document.createElement('div');\n",
              "\t\t\t\telement.innerHTML = '<div id=\"NetworKit_Overlay_Toolbar_Top\"><div class=\"button icon-close\" id=\"NetworKit_Overlay_Close\" /></div><div id=\"NetworKit_Overlay_Title\" /> <div id=\"NetworKit_Overlay_ImageContainer\"> <div id=\"NetworKit_Overlay_Image\" /> </div> <div id=\"NetworKit_Overlay_Toolbar_Bottom\"> <div class=\"button icon-previous\" onclick=\"NetworKit_overlayImageShift(-1)\" /> <div class=\"button icon-next\" onclick=\"NetworKit_overlayImageShift(1)\" /> <a id=\"NetworKit_Overlay_Toolbar_Bottom_Save\"><div class=\"button icon-save\" /></a> </div>';\n",
              "\t\t\t\telement.setAttribute('id', 'NetworKit_Overlay');\n",
              "\t\t\t\tdocument.body.appendChild(element);\n",
              "\t\t\t\tdocument.getElementById('NetworKit_Overlay_Close').onclick = function (e) {\n",
              "\t\t\t\t\tdocument.getElementById('NetworKit_Overlay').style.display = 'none';\n",
              "\t\t\t\t}\n",
              "\t\t\t}\n",
              "\t\t\n",
              "\t\t\t-->\n",
              "\t\t\t</script>\n",
              "\t\t"
            ]
          },
          "metadata": {}
        }
      ],
      "source": [
        "!pip install GraphRicciCurvature\n",
        "!pip install igraph\n",
        "!pip install scikit-learn\n",
        "!pip install python-louvain\n",
        "!pip install numpy\n",
        "import numpy as np\n",
        "import random\n",
        "import os\n",
        "from community import community_louvain\n",
        "import networkx as nx\n",
        "import multiprocessing\n",
        "multiprocessing.set_start_method('spawn', force=True)\n",
        "import math\n",
        "import heapq\n",
        "from google.colab import drive\n",
        "drive.mount('/content/drive')\n",
        "base_filePath = '/content/drive/My Drive/Datasets'\n",
        "import multiprocessing\n",
        "import igraph as ig\n",
        "%matplotlib inline\n",
        "import matplotlib.pyplot as plt\n",
        "import GraphRicciCurvature\n",
        "from GraphRicciCurvature.OllivierRicci import OllivierRicci\n",
        "from GraphRicciCurvature.FormanRicci import FormanRicci\n",
        "from sklearn import preprocessing, metrics"
      ]
    },
    {
      "cell_type": "markdown",
      "source": [
        "# Initialize the graph from the file"
      ],
      "metadata": {
        "id": "ROM79r-TZFcC"
      }
    },
    {
      "cell_type": "code",
      "execution_count": null,
      "metadata": {
        "id": "WvkEqnwJgfQB"
      },
      "outputs": [],
      "source": [
        "#Allows for file input, transforms it into a NetworkX graph, and returns the graph.\n",
        "def fileToGraph(filepath):\n",
        "  G = nx.Graph()\n",
        "  with open(filepath, 'r') as file:\n",
        "    lines = file.readlines()\n",
        "  for lineNum, line in  enumerate(lines[1::]):\n",
        "    for n in line.split():\n",
        "      G.add_edge(lineNum + 1, int(n))\n",
        "  return G\n",
        "\n",
        "#Creates a frequency vector with respect to Ricci Curvature with n bins.\n",
        "def vectorize(G, n, start, end, curvature = 'ricciCurvature'):\n",
        "  v = [0] * n\n",
        "  for val in nx.get_edge_attributes(G, curvature).values():\n",
        "    v[int(np.floor((val-start) * (n-1) /(end - start)))] += 1\n",
        "  return v\n",
        "\n",
        "#Normalizes the vector by dividing each component in the vector by the total sum.\n",
        "def normalizeVector(v):\n",
        "  total = sum(v)\n",
        "  for i in range(len(v)):\n",
        "    v[i] /= total\n",
        "  return v\n",
        "\n",
        "#Calculates Ricci curvature of a graph G and returns the graph with Ricci curvature as edge attributes.\n",
        "def addCurvatures(G):\n",
        "  orc = OllivierRicci(G, alpha = 0.5, verbose = 'ERROR')\n",
        "  orc.compute_ricci_curvature()\n",
        "  return orc.G\n",
        "\n",
        "def applyRicciFlow(orc):\n",
        "  orc.compute_ricci_flow(iterations = 10)\n",
        "  com = orc.ricci_community()"
      ]
    },
    {
      "cell_type": "markdown",
      "source": [
        "# Vectorization logic"
      ],
      "metadata": {
        "id": "UfZx4vZQZ0-b"
      }
    },
    {
      "cell_type": "code",
      "source": [
        "#Creates a frequency vector with respect to Ricci Curvature with n bins.\n",
        "def vectorize(G, n, start, end, curvature = 'ricciCurvature'):\n",
        "  v = [0] * n\n",
        "  for val in nx.get_edge_attributes(G, curvature).values():\n",
        "    v[int(np.floor((val-start) * (n-1) /(end - start)))] += 1\n",
        "  return v\n",
        "\n",
        "#Normalizes the vector by dividing each component in the vector by the total sum.\n",
        "def normalizeVector(v):\n",
        "  total = sum(v)\n",
        "  for i in range(len(v)):\n",
        "    v[i] /= total\n",
        "  return v"
      ],
      "metadata": {
        "id": "0yBZHu8PZyoW"
      },
      "execution_count": null,
      "outputs": []
    },
    {
      "cell_type": "markdown",
      "source": [
        "# Ricci Curvature and Ricci Flow"
      ],
      "metadata": {
        "id": "0x_fYUXTaBXJ"
      }
    },
    {
      "cell_type": "code",
      "source": [
        "def addCurvatures(G):\n",
        "  orc = OllivierRicci(G, alpha = 0.5, verbose = 'ERROR')\n",
        "  orc.compute_ricci_curvature()\n",
        "  return orc.G\n",
        "\n",
        "def applyRicciFlow(orc):\n",
        "  orc.compute_ricci_flow(iterations = 10)\n",
        "  com = orc.ricci_community()"
      ],
      "metadata": {
        "id": "KZXbsv3caKSm"
      },
      "execution_count": null,
      "outputs": []
    },
    {
      "cell_type": "markdown",
      "source": [],
      "metadata": {
        "id": "xLWpCQrlRC0D"
      }
    },
    {
      "cell_type": "code",
      "source": [],
      "metadata": {
        "id": "AViMifn2Q_MX"
      },
      "execution_count": null,
      "outputs": []
    },
    {
      "cell_type": "markdown",
      "source": [
        "# Plot Ricci Curvature distributions"
      ],
      "metadata": {
        "id": "YjpvwfybaPIB"
      }
    },
    {
      "cell_type": "code",
      "execution_count": null,
      "metadata": {
        "id": "PWBOj1vFFuHk"
      },
      "outputs": [],
      "source": [
        "def showHistograms(num,curvature=\"ricciCurvature\"):\n",
        "    for i in range(num):\n",
        "      G = fileToGraph()\n",
        "      G_orc = addCurvatures(G)\n",
        "      ricci_curvtures = nx.get_edge_attributes(G_orc.G, curvature).values()\n",
        "      plt.hist(ricci_curvtures, bins = 100, weights = np.ones(len(ricci_curvtures)) / len(ricci_curvtures), label = i + 1)\n",
        "    plt.xlabel('Ricci Curvature')\n",
        "    plt.title(\"Histogram of Ricci Curvatures(Dragonfly)\")\n",
        "    plt.tight_layout()\n",
        "    plt.legend()\n",
        "    plt.show()\n",
        "\n",
        "def linePlotComparison(num, start, end, topologies, curvature = 'ricciCurvature'):\n",
        "  markers = ['h', 'o', '^', 's', '+','*','x','D','d','v','8','p']\n",
        "  attrList, graphs, nodeCounts = [], [], np.array([0] * num)\n",
        "  for i in range(num):\n",
        "    G = fileToGraph()\n",
        "    nodeCounts[i] = G.number_of_nodes()\n",
        "    G_orc = addCurvatures(G)\n",
        "    attrList.append(np.array(list(nx.get_edge_attributes(G_orc.G,curvature).values())))\n",
        "    graphs.append(normalizeVector(vectorize(G_orc.G, 100, start, end, curvature = 'ricciCurvature')))\n",
        "  for i,g in enumerate(graphs):\n",
        "    plt.plot(np.linspace(start,end,100), g, label= f\"{topologies[i]}\" + ', ' + f\"{nodeCounts[i]}\", alpha = 0.5, marker = '.')\n",
        "  plt.grid(visible = False)\n",
        "  plt.xlabel('Ricci Curvature')\n",
        "  plt.yticks(np.arange(0, 1.1, 0.1))\n",
        "  plt.title(\"Line Plots of Ricci Curvatures\")\n",
        "  plt.tight_layout()\n",
        "  plt.legend(bbox_to_anchor=(1, 1), loc='upper left', title = 'Topology and Number of Nodes')\n",
        "  plt.show()\n",
        "\n",
        "def displayGraph():\n",
        "    G = fileToGraph()\n",
        "    G_orc = addCurvatures(G)\n",
        "    G_orc.compute_ricci_flow(iterations = 100)\n",
        "    com = G_orc.ricci_community()\n",
        "    partition = com[0]\n",
        "    ricci_curvatures = nx.get_edge_attributes(G_orc.G, 'ricciCurvature')\n",
        "    norm_curvatures = []\n",
        "    for r in ricci_curvatures.values():\n",
        "      norm_curvatures.append(r / sum(ricci_curvatures.values()))\n",
        "    norm_curvatures = np.array(norm_curvatures)\n",
        "    cmap = plt.get_cmap('hsv')\n",
        "    ax = plt.gca()\n",
        "    pos = nx.kamada_kawai_layout(G)\n",
        "    nx.draw(G, pos, edgecolors = 'black', node_color = 'white', font_size = 8, font_color = 'black', with_labels = True, node_size = 200, edge_color= norm_curvatures, edge_cmap = cmap)\n",
        "    plt.colorbar(plt.cm.ScalarMappable(cmap=cmap, norm=plt.Normalize(vmin=-1, vmax=1)), ax = ax)\n",
        "    plt.show()\n"
      ]
    },
    {
      "cell_type": "markdown",
      "source": [
        "# Edge Removal comparisons"
      ],
      "metadata": {
        "id": "mRlqoSPkaVhs"
      }
    },
    {
      "cell_type": "code",
      "execution_count": null,
      "metadata": {
        "id": "VREQwKu-10zt"
      },
      "outputs": [],
      "source": [
        "\n",
        "\n",
        "\n",
        "\n",
        "def clusteringEdgeRemoval(iterations):\n",
        "  G = fileToGraph()\n",
        "  H = G.copy()\n",
        "  clusteringArray = [0] * iterations\n",
        "  for i in range(iterations):\n",
        "      clusteringArray[i] = nx.average_clustering(G)\n",
        "      edges = list(G.edges())\n",
        "      edge_to_remove = np.random.choice(len(edges), size=1)[0]\n",
        "      G.remove_edge(*edges[edge_to_remove])\n",
        "  plt.xlabel('Number of Edges Removed')\n",
        "  plt.ylabel('Global Clustering Coefficient')\n",
        "  plt.grid(visible = False)\n",
        "  plt.plot([i for i in range(iterations)], clusteringArray, label = 'Random')\n",
        "  plt.title(\"Global Clustering Coefficient After Edge Removal\")\n",
        "  heap = []\n",
        "  clusteringArray = [0] * iterations\n",
        "  H_orc = addCurvatures(H)\n",
        "  for a,b in H_orc.G.edges:\n",
        "    heapq.heappush(heap, (-H_orc.G[a][b]['ricciCurvature'], (a,b)))\n",
        "  for i in range(iterations):\n",
        "    clusteringArray[i] = nx.average_clustering(H)\n",
        "    if heap:\n",
        "      u,v = heapq.heappop(heap)[1]\n",
        "      H.remove_edge(u,v)\n",
        "    else:\n",
        "      break\n",
        "  plt.plot([i for i in range(iterations)], clusteringArray, label = 'Targeted')\n",
        "  plt.legend(bbox_to_anchor=(1, 1), loc='upper left')\n",
        "  plt.show()\n",
        "\n",
        "def diameterEdgeRemoval(num, topology):\n",
        "  G = addCurvatures(fileToGraph()).G\n",
        "  H = G.copy()\n",
        "  MPLArray = [0] * num\n",
        "  for i in range(num):\n",
        "      MPLArray[i] = nx.diameter(H)\n",
        "      edges = list(H.edges())\n",
        "      edge_to_remove = np.random.choice(len(edges), size=1)[0]\n",
        "      H.remove_edge(*edges[edge_to_remove])\n",
        "  plt.xlabel('Number of Edges Removed')\n",
        "  plt.ylabel('Diameter')\n",
        "  plt.grid(visible = False)\n",
        "  plt.plot([i for i in range(num)], MPLArray, label = 'Random')\n",
        "  plt.title(\"Diameter After Edge Removal, \" + topology)\n",
        "  heap = []\n",
        "  MPLArray = [0] * num\n",
        "  H = G.copy()\n",
        "  for a,b in H.edges:\n",
        "    heapq.heappush(heap, (H[a][b]['ricciCurvature'], (a,b)))\n",
        "  for i in range(num):\n",
        "    MPLArray[i] = nx.diameter(H)\n",
        "    if heap:\n",
        "      u,v = heapq.heappop(heap)[1]\n",
        "      H.remove_edge(u,v)\n",
        "    else:\n",
        "      break\n",
        "  plt.plot([i for i in range(num)], MPLArray, label = 'Edge with Min Curvature')\n",
        "  heap = []\n",
        "  H = G.copy()\n",
        "  for a,b in H.edges:\n",
        "    heapq.heappush(heap, (-H[a][b]['ricciCurvature'], (a,b)))\n",
        "  for i in range(num):\n",
        "    MPLArray[i] = nx.diameter(H)\n",
        "    if heap:\n",
        "      u,v = heapq.heappop(heap)[1]\n",
        "      H.remove_edge(u,v)\n",
        "    else:\n",
        "      break\n",
        "  plt.plot([i for i in range(num)], MPLArray, label = 'Edge with Max Curvature')\n",
        "  H = G.copy()\n",
        "  plt.legend(bbox_to_anchor=(1, 1), loc='upper left')\n",
        "  plt.show()\n",
        "\n",
        "def MPLEdgeRemoval(topology):\n",
        "  G = fileToGraph()\n",
        "  removeNum = G.number_of_edges() // 10\n",
        "  H = G.copy()\n",
        "  MPLArray = [0] * removeNum\n",
        "  MPLStart = nx.average_shortest_path_length(G)\n",
        "  for i in range(removeNum):\n",
        "      edges = list(H.edges())\n",
        "      MPLArray[i] = nx.average_shortest_path_length(H) / MPLStart\n",
        "      edge_to_remove = np.random.choice(len(edges), size=1)[0]\n",
        "      H.remove_edge(*edges[edge_to_remove])\n",
        "  plt.xlabel('Number of Edges Removed')\n",
        "  plt.ylabel('Current Mean Path Length to Original')\n",
        "  plt.grid(visible = False)\n",
        "  xArray = [i for i in range(removeNum)]\n",
        "  plt.plot(xArray, MPLArray, label = 'Random')\n",
        "  plt.title(\"Mean Path Length After Edge Removal, \" + topology)\n",
        "  heap = []\n",
        "  MPLArray = [0] * removeNum\n",
        "  H = G.copy()\n",
        "  H = addCurvatures(H).G\n",
        "  for a,b in H.edges:\n",
        "    heapq.heappush(heap, (H[a][b]['ricciCurvature'], (a,b)))\n",
        "  for i in range(removeNum):\n",
        "    MPLArray[i] = nx.average_shortest_path_length(H) / MPLStart\n",
        "    if heap:\n",
        "      u,v = heapq.heappop(heap)[1]\n",
        "      H.remove_edge(u,v)\n",
        "    else:\n",
        "      break\n",
        "  plt.plot(xArray, MPLArray, label = 'Edge with Min Curvature')\n",
        "  heap = []\n",
        "  H = G.copy()\n",
        "  edgeCentrality = nx.edge_betweenness_centrality(H)\n",
        "  for a,b in H.edges:\n",
        "    heapq.heappush(heap, (-edgeCentrality[(a,b)], (a,b)))\n",
        "  for i in range(removeNum):\n",
        "    MPLArray[i] = nx.average_shortest_path_length(H) / MPLStart\n",
        "    if heap:\n",
        "      u,v = heapq.heappop(heap)[1]\n",
        "      H.remove_edge(u,v)\n",
        "    else:\n",
        "      break\n",
        "  plt.plot(xArray, MPLArray, label = 'Edge with Max Betweenness Centrality')\n",
        "  H = G.copy()\n",
        "  plt.legend(bbox_to_anchor=(1, 1), loc='upper left')\n",
        "  plt.show()\n"
      ]
    },
    {
      "cell_type": "code",
      "execution_count": null,
      "metadata": {
        "id": "2QKKgueuCbYL",
        "colab": {
          "base_uri": "https://localhost:8080/",
          "height": 472
        },
        "outputId": "e245e942-bb69-469f-c0d4-2ee4075596ab"
      },
      "outputs": [
        {
          "output_type": "display_data",
          "data": {
            "text/plain": [
              "<Figure size 640x480 with 1 Axes>"
            ],
            "image/png": "[encoded data removed]"
          },
          "metadata": {}
        }
      ],
      "source": [
        "\n",
        "def removalUntilDisconnectedPlot(topologies):\n",
        "  rand, ricciMin, ricciMax, betweenness = [], [], [], []\n",
        "  for i in range(len(topologies)):\n",
        "    G = fileToGraph(os.path.join(base_filePath, topologies[i][1]))\n",
        "    num_edges  = G.number_of_edges()\n",
        "    H = G.copy()\n",
        "    num_removed = 0\n",
        "    edges = set(H.edges())\n",
        "    while True:\n",
        "      u, v = edges.pop()\n",
        "      H.remove_edge(u, v)\n",
        "      if not nx.is_connected(H):\n",
        "        H.add_edge(u, v)\n",
        "        break\n",
        "      num_removed += 1\n",
        "    rand.append((num_removed / num_edges) * 100)\n",
        "    H = G.copy()\n",
        "    H = addCurvatures(H)\n",
        "    heap, num_removed = [], 0\n",
        "    for a,b in H.edges:\n",
        "      heapq.heappush(heap, (H[a][b]['ricciCurvature'], (a,b)))\n",
        "    while True:\n",
        "      if heap:\n",
        "        a,b = heapq.heappop(heap)[1]\n",
        "        H.remove_edge(a,b)\n",
        "      if not nx.is_connected(H):\n",
        "        H.add_edge(a,b)\n",
        "        break\n",
        "      num_removed += 1\n",
        "    ricciMin.append((num_removed / num_edges) * 100)\n",
        "    H = G.copy()\n",
        "    H = addCurvatures(H)\n",
        "    heap, num_removed = [], 0\n",
        "    for a,b in H.edges:\n",
        "      heapq.heappush(heap, (-H[a][b]['ricciCurvature'], (a,b)))\n",
        "    while True:\n",
        "      if heap:\n",
        "        a,b = heapq.heappop(heap)[1]\n",
        "        H.remove_edge(a,b)\n",
        "      if not nx.is_connected(H):\n",
        "        H.add_edge(a,b)\n",
        "        break\n",
        "      num_removed += 1\n",
        "    ricciMax.append((num_removed / num_edges) * 100)\n",
        "    H = G.copy()\n",
        "    heap, num_removed = [], 0\n",
        "    betweennessCentrality = nx.edge_betweenness_centrality(H)\n",
        "    for a,b in H.edges:\n",
        "      heapq.heappush(heap, (-betweennessCentrality[(a,b)], (a,b)))\n",
        "    while True:\n",
        "      if heap:\n",
        "        a,b = heapq.heappop(heap)[1]\n",
        "        H.remove_edge(a,b)\n",
        "      if not nx.is_connected(H):\n",
        "        H.add_edge(a,b)\n",
        "        break\n",
        "      num_removed += 1\n",
        "    betweenness.append((num_removed / num_edges) * 100)\n",
        "    print(topologies[i][0] + ' done')\n",
        "  x_axis = np.arange(len(topologies))\n",
        "  plt.xticks(x_axis, [t[0] for t in topologies])\n",
        "  plt.tick_params(axis='x', labelsize=6)\n",
        "  plt.bar(x_axis - 0.2, rand, 0.2, label = 'Random')\n",
        "  plt.bar(x_axis, ricciMin, 0.2, label = 'Min Ricci Curvature')\n",
        "  plt.bar(x_axis + 0.2, ricciMax, 0.2, label = 'Max Ricci Curvature')\n",
        "  plt.bar(x_axis + 0.4, betweenness, 0.2, label = 'Max Betweenness Centrality')\n",
        "  plt.xlabel('Topologies')\n",
        "  plt.ylabel('Percentage of Edges Removed')\n",
        "  plt.title(\"Percentage of Edges Removed Until Disconnected\")\n",
        "  plt.grid(visible = False)\n",
        "  plt.legend(bbox_to_anchor=(1, 1), loc='upper left')\n",
        "  plt.show()\n",
        "\n",
        "\n",
        "def calculate_FiedlerValue(G):\n",
        "  m = G.laplacian()\n",
        "  return np.linalg.eigvalsh(m)[1]\n",
        "\n",
        "def removalFiedlerLinePlot(topology):\n",
        "  rand, ricciMin, ricciMax, betweenness = [], [], [], []\n",
        "  G_nx = fileToGraph(os.path.join(base_filePath, topology[1]))\n",
        "  G_ig = ig.Graph.from_networkx(G_nx)\n",
        "  fiedler_initial = calculate_FiedlerValue(G_ig)\n",
        "  H = G_ig.copy()\n",
        "  edges = set(H.get_edgelist())\n",
        "  while H.is_connected():\n",
        "    rand.append(calculate_FiedlerValue(H) / fiedler_initial)\n",
        "    u, v = edges.pop()\n",
        "    H.delete_edges([(u, v)])\n",
        "  H = ig.Graph.from_networkx(addCurvatures(G_nx))\n",
        "  heap = []\n",
        "  for e in H.es:\n",
        "    heapq.heappush(heap, (e['ricciCurvature'], (e.source, e.target)))\n",
        "  while H.is_connected():\n",
        "    ricciMin.append(calculate_FiedlerValue(H) / fiedler_initial)\n",
        "    _, (a,b) = heapq.heappop(heap)\n",
        "    H.delete_edges([(a,b)])\n",
        "  H = ig.Graph.from_networkx(addCurvatures(G_nx))\n",
        "  heap = []\n",
        "  for e in H.es:\n",
        "    heapq.heappush(heap, (-e['ricciCurvature'], (e.source, e.target)))\n",
        "  while H.is_connected():\n",
        "    ricciMax.append(calculate_FiedlerValue(H) / fiedler_initial)\n",
        "    _, (a,b) = heapq.heappop(heap)\n",
        "    H.delete_edges([(a,b)])\n",
        "  H = G_ig.copy()\n",
        "  heap = []\n",
        "  betweennessCentrality = H.edge_betweenness()\n",
        "  for i, edge in enumerate(H.get_edgelist()):\n",
        "    a, b = edge\n",
        "    heapq.heappush(heap, (-betweennessCentrality[i], (a,b)))\n",
        "  while H.is_connected():\n",
        "    betweenness.append(calculate_FiedlerValue(H) / fiedler_initial)\n",
        "    _, (a,b) = heapq.heappop(heap)\n",
        "    H.delete_edges([(a,b)])\n",
        "\n",
        "  plt.plot([i for i in range(len(rand))], rand, label = 'Random Edge')\n",
        "  plt.plot([i for i in range(len(ricciMin))], ricciMin, label = 'Edge with Min Curvature')\n",
        "  plt.plot([i for i in range(len(ricciMax))], ricciMax, label = 'Edge with Max Curvature')\n",
        "  plt.plot([i for i in range(len(betweenness))], betweenness, label = 'Edge with Max Betweenness Centrality')\n",
        "  plt.xlabel('Number Of Edges Removed')\n",
        "  plt.ylabel('Current Fiedler Value to Initial')\n",
        "  plt.grid(visible = False)\n",
        "  plt.title('Algebraic Connectivity Through Edge Removal, Fat Tree')\n",
        "  plt.legend(bbox_to_anchor = (1,1), loc = 'upper left')\n",
        "  plt.show()\n",
        "\n",
        "\n",
        "#removalUntilDisconnectedPlot([('Fat Tree', 'FT3.10.adj.txt')])\n",
        "removalFiedlerLinePlot(['Fat Tree', 'FT3.14.adj.txt'])\n",
        "\n",
        "\n"
      ]
    },
    {
      "cell_type": "markdown",
      "source": [
        "# Comparisons of speed of graph disconnection under different types of edge removal"
      ],
      "metadata": {
        "id": "milsG1k3aZDq"
      }
    },
    {
      "cell_type": "markdown",
      "source": [],
      "metadata": {
        "id": "Liw-CZ3vvWLo"
      }
    }
  ],
  "metadata": {
    "colab": {
      "provenance": [],
      "machine_shape": "hm",
      "gpuType": "T4",
      "include_colab_link": true
    },
    "kernelspec": {
      "display_name": "Python 3",
      "name": "python3"
    },
    "language_info": {
      "name": "python"
    },
    "accelerator": "GPU"
  },
  "nbformat": 4,
  "nbformat_minor": 0
}